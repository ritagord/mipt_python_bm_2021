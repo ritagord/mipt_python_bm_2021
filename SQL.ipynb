{
 "cells": [
  {
   "cell_type": "code",
   "execution_count": 3,
   "metadata": {},
   "outputs": [],
   "source": [
    "\n",
    "\n",
    "import sqlite3\n",
    "\n"
   ]
  },
  {
   "cell_type": "code",
   "execution_count": 15,
   "metadata": {},
   "outputs": [],
   "source": [
    "! mkdir -p databases\n",
    "DB_PATH = \"databases/test21_2.db\"\n",
    "connection = sqlite3.connect(DB_PATH)\n"
   ]
  },
  {
   "cell_type": "markdown",
   "metadata": {},
   "source": [
    "Используя базу данных с предыдущего занятия, надо написать класс (или набор функций) для работы с ней. Должны быть реализованы возможности:\n",
    "\n",
    "    Вывести список книг. \n",
    "   \n",
    "    Вывести список читателей. \n",
    "    Добавить книгу.\n",
    "    Добавить читателя. \n",
    "    Выдать книгу читателю.\n",
    "    Принять книгу.\n",
    "\n"
   ]
  },
  {
   "cell_type": "markdown",
   "metadata": {},
   "source": [
    "\n",
    "Books (id, author, title, publish_year)\n",
    "Readers (id, name)\n",
    "Records (reader_id, book_id, taking_date, returning_date)\n",
    "\n"
   ]
  },
  {
   "cell_type": "markdown",
   "metadata": {},
   "source": [
    "Создаем таблицы "
   ]
  },
  {
   "cell_type": "code",
   "execution_count": 16,
   "metadata": {},
   "outputs": [
    {
     "data": {
      "text/plain": [
       "<sqlite3.Cursor at 0x7f19502b45e0>"
      ]
     },
     "execution_count": 16,
     "metadata": {},
     "output_type": "execute_result"
    }
   ],
   "source": [
    "c = connection.cursor()\n",
    "\n",
    "# Create table\n",
    "c.execute('''CREATE TABLE Books (id REAL, title TEXT, author TEXT, publish_year REAL); ''')\n"
   ]
  },
  {
   "cell_type": "code",
   "execution_count": 17,
   "metadata": {},
   "outputs": [
    {
     "data": {
      "text/plain": [
       "<sqlite3.Cursor at 0x7f19502b45e0>"
      ]
     },
     "execution_count": 17,
     "metadata": {},
     "output_type": "execute_result"
    }
   ],
   "source": [
    "c.execute(''' \n",
    "    INSERT INTO Books VALUES \n",
    "        (10, 'Fullmetal Alchemist', 'Hiromu Arakawa', 2010), \n",
    "        (8, 'Dragon Ball',  'Akira Toriyama', 1995), \n",
    "        (6,'Inuyasha',  'Rumiko Takahashi' , 2008), \n",
    "        (2, 'Naruto',  'Masashi Kishimoto' , 2014),\n",
    "        (5, 'Sailor Moon' , 'Naoko Takeuchi', 1997),\n",
    "        (7, 'Death Note', 'Tsugumi Ohba and Takeshi Obata', 2006);\n",
    "''')"
   ]
  },
  {
   "cell_type": "code",
   "execution_count": 18,
   "metadata": {},
   "outputs": [
    {
     "data": {
      "text/plain": [
       "<sqlite3.Cursor at 0x7f19502b45e0>"
      ]
     },
     "execution_count": 18,
     "metadata": {},
     "output_type": "execute_result"
    }
   ],
   "source": [
    "c.execute('''CREATE TABLE Readers (id REAL, name TEXT ); ''')\n",
    "\n",
    "\n",
    "c.execute(''' \n",
    "    INSERT INTO Readers VALUES \n",
    "        (1, 'Nikolay Biba'), \n",
    "        (2, 'Aleksandra Boba'); \n",
    "\n",
    "''')"
   ]
  },
  {
   "cell_type": "code",
   "execution_count": 19,
   "metadata": {},
   "outputs": [
    {
     "data": {
      "text/plain": [
       "<sqlite3.Cursor at 0x7f19502b45e0>"
      ]
     },
     "execution_count": 19,
     "metadata": {},
     "output_type": "execute_result"
    }
   ],
   "source": [
    "c.execute('''CREATE TABLE Records (reader_id REAL, book_id REAL, taking_date REAL, returning_date REAL); ''')\n",
    "\n",
    "c.execute('''\n",
    "    INSERT INTO Records VALUES\n",
    "        (1, 10, 13.03, 15.05);\n",
    "''')\n"
   ]
  },
  {
   "cell_type": "code",
   "execution_count": 20,
   "metadata": {},
   "outputs": [],
   "source": [
    "connection.commit()\n",
    "connection.close()"
   ]
  },
  {
   "cell_type": "code",
   "execution_count": 21,
   "metadata": {},
   "outputs": [
    {
     "name": "stdout",
     "output_type": "stream",
     "text": [
      "(5.0, 'Sailor Moon', 'Naoko Takeuchi', 1997.0)\n"
     ]
    }
   ],
   "source": [
    "connection = sqlite3.connect(DB_PATH)\n",
    "c = connection.cursor()\n",
    "\n",
    "c.execute(\"SELECT * FROM Books WHERE author='Naoko Takeuchi';\")\n",
    "\n",
    "print(c.fetchone())\n"
   ]
  },
  {
   "cell_type": "code",
   "execution_count": 22,
   "metadata": {},
   "outputs": [],
   "source": [
    "connection.commit()\n",
    "connection.close()"
   ]
  },
  {
   "cell_type": "markdown",
   "metadata": {},
   "source": [
    "#### Вывести список книг."
   ]
  },
  {
   "cell_type": "code",
   "execution_count": 23,
   "metadata": {},
   "outputs": [
    {
     "name": "stdout",
     "output_type": "stream",
     "text": [
      "(2.0, 'Naruto', 'Masashi Kishimoto', 2014.0)\n",
      "(5.0, 'Sailor Moon', 'Naoko Takeuchi', 1997.0)\n",
      "(6.0, 'Inuyasha', 'Rumiko Takahashi', 2008.0)\n",
      "(7.0, 'Death Note', 'Tsugumi Ohba and Takeshi Obata', 2006.0)\n",
      "(8.0, 'Dragon Ball', 'Akira Toriyama', 1995.0)\n",
      "(10.0, 'Fullmetal Alchemist', 'Hiromu Arakawa', 2010.0)\n"
     ]
    }
   ],
   "source": [
    "def look_at_books():\n",
    "    connection = sqlite3.connect(DB_PATH)\n",
    "    cursor = connection.cursor()\n",
    "\n",
    "    for row in cursor.execute(\"SELECT * FROM Books ORDER BY id;\"):\n",
    "        print(row)\n",
    "\n",
    "    connection.close()\n",
    "    return\n",
    "\n",
    "look_at_books()"
   ]
  },
  {
   "cell_type": "markdown",
   "metadata": {},
   "source": [
    "#### Вывести список читателей."
   ]
  },
  {
   "cell_type": "code",
   "execution_count": 24,
   "metadata": {},
   "outputs": [
    {
     "name": "stdout",
     "output_type": "stream",
     "text": [
      "(1.0, 'Nikolay Biba')\n",
      "(2.0, 'Aleksandra Boba')\n"
     ]
    }
   ],
   "source": [
    "def look_at_readers():\n",
    "    connection = sqlite3.connect(DB_PATH)\n",
    "    cursor = connection.cursor()\n",
    "\n",
    "    for row in cursor.execute(\"SELECT * FROM Readers ORDER BY id;\"):\n",
    "        print(row)\n",
    "\n",
    "    connection.close()\n",
    "\n",
    "look_at_readers()"
   ]
  },
  {
   "cell_type": "markdown",
   "metadata": {},
   "source": [
    "#### Добавить книгу."
   ]
  },
  {
   "cell_type": "code",
   "execution_count": 25,
   "metadata": {},
   "outputs": [],
   "source": [
    "def add_book(book):\n",
    "    \n",
    "    connection = sqlite3.connect(DB_PATH)\n",
    "    cursor = connection.cursor()\n",
    "\n",
    "    connection.executemany(\n",
    "        \"INSERT INTO Books VALUES (?, ?, ?, ?)\",\n",
    "        book\n",
    "    )\n",
    "    connection.commit()\n",
    "    connection.close()\n",
    "    return \n",
    "\n",
    "book = [(9, 'Soul Eater', 'Atsushi Ohkubo', 2013)]\n",
    "add_book(book)\n"
   ]
  },
  {
   "cell_type": "markdown",
   "metadata": {},
   "source": [
    "Проверим что добавилось"
   ]
  },
  {
   "cell_type": "code",
   "execution_count": 26,
   "metadata": {},
   "outputs": [
    {
     "name": "stdout",
     "output_type": "stream",
     "text": [
      "(2.0, 'Naruto', 'Masashi Kishimoto', 2014.0)\n",
      "(5.0, 'Sailor Moon', 'Naoko Takeuchi', 1997.0)\n",
      "(6.0, 'Inuyasha', 'Rumiko Takahashi', 2008.0)\n",
      "(7.0, 'Death Note', 'Tsugumi Ohba and Takeshi Obata', 2006.0)\n",
      "(8.0, 'Dragon Ball', 'Akira Toriyama', 1995.0)\n",
      "(9.0, 'Soul Eater', 'Atsushi Ohkubo', 2013.0)\n",
      "(10.0, 'Fullmetal Alchemist', 'Hiromu Arakawa', 2010.0)\n"
     ]
    }
   ],
   "source": [
    "look_at_books()"
   ]
  },
  {
   "cell_type": "markdown",
   "metadata": {},
   "source": [
    "#### Добавить читателя."
   ]
  },
  {
   "cell_type": "code",
   "execution_count": 27,
   "metadata": {},
   "outputs": [
    {
     "name": "stdout",
     "output_type": "stream",
     "text": [
      "(1.0, 'Nikolay Biba')\n",
      "(2.0, 'Aleksandra Boba')\n",
      "(3.0, 'Vasiliy Alexeev')\n"
     ]
    }
   ],
   "source": [
    "def add_reader(reader):\n",
    "    \n",
    "    connection = sqlite3.connect(DB_PATH)\n",
    "    cursor = connection.cursor()\n",
    "\n",
    "    connection.executemany(\n",
    "        \"INSERT INTO Readers VALUES (?, ?)\",\n",
    "        reader\n",
    "    )\n",
    "    connection.commit()\n",
    "    connection.close()\n",
    "    return\n",
    "\n",
    "reader = [(3, 'Vasiliy Alexeev')]\n",
    "add_reader(reader)\n",
    "look_at_readers()"
   ]
  },
  {
   "cell_type": "markdown",
   "metadata": {},
   "source": [
    "#### Выдать книгу читателю.\n"
   ]
  },
  {
   "cell_type": "code",
   "execution_count": 29,
   "metadata": {},
   "outputs": [],
   "source": [
    "\n",
    "# Records (reader_id, book_id, taking_date, returning_date)\n",
    "\n",
    "def give_book(record):\n",
    "    connection = sqlite3.connect(DB_PATH)\n",
    "    cursor = connection.cursor()\n",
    "\n",
    "    connection.execute(\"INSERT OR IGNORE INTO Records VALUES(?, ?, ?, ?)\", record)\n",
    "    connection.commit()\n",
    "\n",
    "    connection.close()\n",
    "    return"
   ]
  },
  {
   "cell_type": "code",
   "execution_count": 31,
   "metadata": {},
   "outputs": [
    {
     "name": "stdout",
     "output_type": "stream",
     "text": [
      "до выдачи книги\n",
      "(1.0, 10.0, 13.03, 15.05)\n",
      "после выдачи книги\n",
      "(1.0, 10.0, 13.03, 15.05)\n",
      "(2.0, 2.0, 13.03, 13.04)\n"
     ]
    }
   ],
   "source": [
    "\n",
    "\n",
    "record = (2.0, 2.0, 13.03, 13.04)\n",
    "\n",
    "print(\"до выдачи книги\")\n",
    "connection = sqlite3.connect(DB_PATH)\n",
    "cursor = connection.cursor()\n",
    "\n",
    "for row in cursor.execute(\"SELECT * FROM Records ORDER BY taking_date;\"):\n",
    "        print(row)\n",
    "\n",
    "connection.close()\n",
    "\n",
    "give_book(record)\n",
    "print(\"после выдачи книги\")\n",
    "connection = sqlite3.connect(DB_PATH)\n",
    "cursor = connection.cursor()\n",
    "\n",
    "for row in cursor.execute(\"SELECT * FROM Records ORDER BY taking_date;\"):\n",
    "        print(row)\n",
    "\n",
    "connection.close()"
   ]
  },
  {
   "cell_type": "markdown",
   "metadata": {},
   "source": [
    "#### Принять книгу."
   ]
  },
  {
   "cell_type": "markdown",
   "metadata": {},
   "source": [
    "Хотим, зная, что за книга и читатель, сделать новый record с той же датой, когда человек брал, но с новой, когда реально отдал"
   ]
  },
  {
   "cell_type": "code",
   "execution_count": 64,
   "metadata": {},
   "outputs": [],
   "source": [
    "import numpy as np"
   ]
  },
  {
   "cell_type": "code",
   "execution_count": 78,
   "metadata": {},
   "outputs": [],
   "source": [
    "def accept_book(reader_id, book_id, accept_date):\n",
    "\n",
    "    connection = sqlite3.connect(DB_PATH)\n",
    "\n",
    "    cursor = connection.cursor()\n",
    "    \n",
    "    for row in cursor.execute(\"SELECT * FROM Records WHERE reader_id = ? AND book_id = ?;\", (reader_id, book_id)):\n",
    "        record = row\n",
    "\n",
    "    new_record = tuple(np.insert(np.array(record), [3] ,accept_date)[:4])\n",
    "\n",
    "    cursor.execute(\"INSERT OR IGNORE INTO Records VALUES(?, ?, ?, ?)\", new_record)\n",
    "    \n",
    "    connection.commit()\n",
    "    connection.close()\n",
    "\n",
    "    return\n",
    "\n"
   ]
  },
  {
   "cell_type": "code",
   "execution_count": 79,
   "metadata": {},
   "outputs": [],
   "source": [
    "reader_id, book_id = 1, 10\n",
    "accept_date = 15.11\n",
    "accept_book(reader_id, book_id, accept_date)"
   ]
  },
  {
   "cell_type": "code",
   "execution_count": 80,
   "metadata": {},
   "outputs": [
    {
     "name": "stdout",
     "output_type": "stream",
     "text": [
      "(1.0, 10.0, 13.03, 14.05)\n",
      "(2.0, 2.0, 13.03, 13.04)\n",
      "(1.0, 10.0, 13.03, 15.11)\n"
     ]
    }
   ],
   "source": [
    "connection = sqlite3.connect(DB_PATH)\n",
    "cursor = connection.cursor()\n",
    "\n",
    "for row in cursor.execute(\"SELECT * FROM Records ORDER BY taking_date;\"):\n",
    "        print(row)\n",
    "\n",
    "connection.close()\n"
   ]
  },
  {
   "cell_type": "code",
   "execution_count": null,
   "metadata": {},
   "outputs": [],
   "source": []
  }
 ],
 "metadata": {
  "kernelspec": {
   "display_name": "Python 3",
   "language": "python",
   "name": "python3"
  },
  "language_info": {
   "codemirror_mode": {
    "name": "ipython",
    "version": 3
   },
   "file_extension": ".py",
   "mimetype": "text/x-python",
   "name": "python",
   "nbconvert_exporter": "python",
   "pygments_lexer": "ipython3",
   "version": "3.8.10"
  }
 },
 "nbformat": 4,
 "nbformat_minor": 4
}
