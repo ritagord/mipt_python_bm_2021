{
 "cells": [
  {
   "cell_type": "markdown",
   "metadata": {},
   "source": [
    "Задание 5\n",
    "\n",
    "В векторе x надо заполнить каждый нулевой элемент предыдущим ненулевым значением.\n",
    "\n",
    "Например:\n",
    "\n",
    "x = [8, 0, 0, 1, 0, 0, 0, -17.5, 0]\n",
    "\n",
    "Answer: [8, 8, 8, 1, 1, 1, 1, -17.5, -17.5]\n"
   ]
  },
  {
   "cell_type": "code",
   "execution_count": 97,
   "metadata": {},
   "outputs": [],
   "source": [
    "import numpy as np\n",
    "import matplotlib.pyplot as plt\n"
   ]
  },
  {
   "cell_type": "code",
   "execution_count": 137,
   "metadata": {},
   "outputs": [
    {
     "name": "stdout",
     "output_type": "stream",
     "text": [
      "[1 2 4 5 6 8]\n"
     ]
    },
    {
     "ename": "TypeError",
     "evalue": "only integer scalar arrays can be converted to a scalar index",
     "output_type": "error",
     "traceback": [
      "\u001b[0;31m---------------------------------------------------------------------------\u001b[0m",
      "\u001b[0;31mTypeError\u001b[0m                                 Traceback (most recent call last)",
      "\u001b[0;32m<ipython-input-137-0f578081f777>\u001b[0m in \u001b[0;36m<module>\u001b[0;34m\u001b[0m\n\u001b[1;32m      8\u001b[0m \u001b[0myy\u001b[0m \u001b[0;34m=\u001b[0m \u001b[0mnp\u001b[0m\u001b[0;34m.\u001b[0m\u001b[0mzeros\u001b[0m\u001b[0;34m(\u001b[0m\u001b[0mnp\u001b[0m\u001b[0;34m.\u001b[0m\u001b[0mshape\u001b[0m\u001b[0;34m(\u001b[0m\u001b[0mx\u001b[0m\u001b[0;34m)\u001b[0m\u001b[0;34m)\u001b[0m\u001b[0;34m\u001b[0m\u001b[0;34m\u001b[0m\u001b[0m\n\u001b[1;32m      9\u001b[0m \u001b[0;34m\u001b[0m\u001b[0m\n\u001b[0;32m---> 10\u001b[0;31m \u001b[0myy\u001b[0m\u001b[0;34m[\u001b[0m\u001b[0mziy\u001b[0m\u001b[0;34m]\u001b[0m \u001b[0;34m=\u001b[0m \u001b[0mx\u001b[0m\u001b[0;34m[\u001b[0m\u001b[0mzix\u001b[0m\u001b[0;34m]\u001b[0m\u001b[0;34m\u001b[0m\u001b[0;34m\u001b[0m\u001b[0m\n\u001b[0m\u001b[1;32m     11\u001b[0m \u001b[0;34m\u001b[0m\u001b[0m\n\u001b[1;32m     12\u001b[0m \u001b[0mprint\u001b[0m\u001b[0;34m(\u001b[0m\u001b[0mnp\u001b[0m\u001b[0;34m.\u001b[0m\u001b[0mcumsum\u001b[0m\u001b[0;34m(\u001b[0m\u001b[0mx\u001b[0m\u001b[0;34m)\u001b[0m \u001b[0;34m-\u001b[0m \u001b[0mnp\u001b[0m\u001b[0;34m.\u001b[0m\u001b[0mcumsum\u001b[0m\u001b[0;34m(\u001b[0m\u001b[0myy\u001b[0m\u001b[0;34m)\u001b[0m\u001b[0;34m)\u001b[0m\u001b[0;34m\u001b[0m\u001b[0;34m\u001b[0m\u001b[0m\n",
      "\u001b[0;31mTypeError\u001b[0m: only integer scalar arrays can be converted to a scalar index"
     ]
    }
   ],
   "source": [
    "#5\n",
    "x = [8, 0, 0, 1, 0, 0, 0, -17.5, 0]\n",
    "zeros_ind = np.array(np.where(np.array(x) == 0))\n",
    "print(zeros_ind[0, :])\n",
    "zi = zeros_ind[0, :]\n",
    "zix = zi[:len(zi)-1]\n",
    "ziy = zi[1:]\n",
    "yy = np.zeros(np.shape(x))\n",
    "\n",
    "yy[ziy] = x[zix]\n",
    "\n",
    "print(np.cumsum(x) - np.cumsum(yy))"
   ]
  },
  {
   "cell_type": "markdown",
   "metadata": {},
   "source": [
    "\n",
    "    1)Сформируйте систему линейных уравнений (то есть задайте матрицу коэффициентов A и свободный вектор b) для многочлена первой степени, который должен совпадать с функцией f в точках 1 и 15. Решите данную систему с помощью функции numpy.linalg.solve. Нарисуйте функцию f и полученный многочлен. Хорошо ли он приближает исходную функцию?\n",
    "   <br> плохо <br>\n",
    "    \n",
    "    \n",
    "    2)Повторите те же шаги для многочлена второй степени, который совпадает с функцией f в точках 1, 8 и 15. Улучшилось ли качество аппроксимации?\n",
    "   <br> лучше, но все равно не хорошо <br>\n",
    "    \n",
    "\n",
    "    3)Повторите те же шаги для многочлена третьей степени, который совпадает с функцией f в точках 1, 4, 10 и 15. Хорошо ли он аппроксимирует функцию? Коэффициенты данного многочлена (четыре числа в следующем порядке: w0, w1, w2, w3) являются ответом на задачу. Округлять коэффициенты не обязательно, но при желании можно произвести округление до второго знака (т.е. до числа вида 0.42).\n",
    "   <br> хорошо <br>\n",
    "    \n",
    "\n"
   ]
  },
  {
   "cell_type": "code",
   "execution_count": 109,
   "metadata": {},
   "outputs": [
    {
     "name": "stdout",
     "output_type": "stream",
     "text": [
      "[ 3.43914511 -0.18692825]\n"
     ]
    },
    {
     "data": {
      "text/plain": [
       "<matplotlib.legend.Legend at 0x7f8fcd3099a0>"
      ]
     },
     "execution_count": 109,
     "metadata": {},
     "output_type": "execute_result"
    },
    {
     "data": {
      "image/png": "[encoded data removed]",
      "text/plain": [
       "<Figure size 432x288 with 1 Axes>"
      ]
     },
     "metadata": {
      "needs_background": "light"
     },
     "output_type": "display_data"
    }
   ],
   "source": [
    "#1\n",
    "def f(x):\n",
    "    return np.sin(x / 5) * np.exp(x / 10) + 5 * np.exp(- x / 2)\n",
    "\n",
    "A = np.array([[1, 1], \n",
    "              [1, 15]])\n",
    "b = np.array([f(1), \n",
    "              f(15)])\n",
    "solution = np.linalg.solve(A, b)\n",
    "\n",
    "print(solution)\n",
    "\n",
    "\n",
    "plt.plot(np.arange(0, 20), np.arange(0, 20) * solution[1] + solution[0], label  = '1st order')\n",
    "plt.plot(np.arange(0, 20), f(np.arange(0, 20)), label = 'f(x)')\n",
    "plt.grid()\n",
    "plt.xlim(1, 16)\n",
    "plt.legend()\n"
   ]
  },
  {
   "cell_type": "code",
   "execution_count": 112,
   "metadata": {},
   "outputs": [
    {
     "data": {
      "text/plain": [
       "<matplotlib.legend.Legend at 0x7f8fcd244850>"
      ]
     },
     "execution_count": 112,
     "metadata": {},
     "output_type": "execute_result"
    },
    {
     "data": {
      "image/png": "[encoded data removed]",
      "text/plain": [
       "<Figure size 432x288 with 1 Axes>"
      ]
     },
     "metadata": {
      "needs_background": "light"
     },
     "output_type": "display_data"
    }
   ],
   "source": [
    "#2\n",
    "\n",
    "\n",
    "a = np.array([1, \n",
    "              4, \n",
    "              10])\n",
    "A = np.array([a**0, \n",
    "              a**1, \n",
    "              a**2])\n",
    "A = np.transpose(A)\n",
    "\n",
    "b = np.array([f(1), \n",
    "              f(8), \n",
    "              f(15)])\n",
    "\n",
    "solution = np.linalg.solve(A, b)\n",
    "\n",
    "plt.plot(np.arange(0, 20), np.arange(0, 20)*np.arange(0, 20) * solution[2] + np.arange(0, 20) * solution[1]  + solution[0], label  = '2nd order')\n",
    "plt.plot(np.arange(0, 20), f(np.arange(0, 20)), label = 'f(x)')\n",
    "plt.grid()\n",
    "plt.xlim(1, 16)\n",
    "plt.legend()\n"
   ]
  },
  {
   "cell_type": "code",
   "execution_count": 115,
   "metadata": {},
   "outputs": [
    {
     "name": "stdout",
     "output_type": "stream",
     "text": [
      "answer -  [ 4.36264154 -1.29552587  0.19333685 -0.00823565]\n"
     ]
    },
    {
     "data": {
      "image/png": "[encoded data removed]",
      "text/plain": [
       "<Figure size 432x288 with 1 Axes>"
      ]
     },
     "metadata": {
      "needs_background": "light"
     },
     "output_type": "display_data"
    }
   ],
   "source": [
    "#3\n",
    "\n",
    "a = np.array([1, \n",
    "              4, \n",
    "              10, \n",
    "              15])\n",
    "A = np.array([a**0, \n",
    "              a**1, \n",
    "              a**2, \n",
    "              a**3])\n",
    "A = np.transpose(A)\n",
    "\n",
    "b = np.array([f(1), \n",
    "               f(4), \n",
    "               f(10), \n",
    "               f(15)])\n",
    "\n",
    "solution = np.linalg.solve(A, b)\n",
    "arange = np.arange(0, 20)\n",
    "plt.plot(arange, arange*arange*arange * solution[3] + arange*arange * solution[2] + arange * solution[1]  + solution[0], label  = '3st order')\n",
    "plt.plot(arange, f(arange), label = 'f(x)')\n",
    "plt.grid()\n",
    "plt.xlim(1, 16)\n",
    "plt.legend()\n",
    "\n",
    "\n",
    "print(\"answer - \", solution)"
   ]
  },
  {
   "cell_type": "markdown",
   "metadata": {},
   "source": [
    "Задание 2\n",
    "\n",
    "Есть два вектора одинаковой длины: x и y. Надо найти количество позиций, для которых элементы в обоих векторах ненулевые. Число позиций, для которых хотя бы в одном из двух векторов x и y есть ненулевой элемент.\n",
    "\n",
    "Например:\n",
    "\n",
    "x = [1, 0, 1, 1, 0, 1, 1]\n",
    "y = [0, 2, 0, 2, 0, 2, 0]\n",
    "\n",
    "Answer: 2, 6\n"
   ]
  },
  {
   "cell_type": "code",
   "execution_count": 121,
   "metadata": {},
   "outputs": [
    {
     "name": "stdout",
     "output_type": "stream",
     "text": [
      "2 6\n"
     ]
    }
   ],
   "source": [
    "x = np.array([1, 0, 1, 1, 0, 1, 1]) \n",
    "y = np.array([0, 2, 0, 2, 0, 2, 0])\n",
    "\n",
    "print(np.count_nonzero(x * y),  np.count_nonzero(x + y))\n",
    "\n"
   ]
  },
  {
   "cell_type": "markdown",
   "metadata": {},
   "source": [
    "Задание 3\n",
    "\n",
    "В векторе x надо повторить каждый элемент N раз подряд.\n",
    "\n",
    "Например:\n",
    "\n",
    "x = [1, 2, 0], N = 3\n",
    "\n",
    "Answer: [1, 1, 1, 2, 2, 2, 0, 0, 0]\n"
   ]
  },
  {
   "cell_type": "code",
   "execution_count": 122,
   "metadata": {},
   "outputs": [
    {
     "name": "stdout",
     "output_type": "stream",
     "text": [
      "[1 1 1 2 2 2 0 0 0]\n"
     ]
    }
   ],
   "source": [
    "x = np.array([1, 2, 0])\n",
    "N = 3\n",
    "\n",
    "print(np.repeat(x, N, axis = 0))"
   ]
  },
  {
   "cell_type": "markdown",
   "metadata": {},
   "source": [
    "Задание 4\n",
    "\n",
    "В векторе x надо найти максимальный элемент среди тех, перед которыми стоит ноль.\n",
    "\n",
    "Например:\n",
    "\n",
    "x = [0, 11, 0, 0, -7, 2, 0, 4, 0]\n",
    "\n",
    "Answer: 11\n"
   ]
  },
  {
   "cell_type": "code",
   "execution_count": 130,
   "metadata": {},
   "outputs": [
    {
     "name": "stdout",
     "output_type": "stream",
     "text": [
      "[0 2 3 6 8]\n",
      "answer 11\n"
     ]
    }
   ],
   "source": [
    "x = np.array([0, 11, 0, 0, -7, 2, 0, 4, 0])\n",
    "\n",
    "ind_zero = (np.where(x == 0))[0]\n",
    "print(ind_zero)\n",
    "\n",
    "print(\"answer\", np.max(x[1:][ind_zero[:-1]]))"
   ]
  },
  {
   "cell_type": "markdown",
   "metadata": {},
   "source": [
    "Задание 6\n",
    "\n",
    "Надо вычислить приближённое значение функции f(x) = ln(1 + x) в точке x0 с помощью разложения в ряд Тейлора N-го порядка в окрестности нуля:\n",
    "\n"
   ]
  },
  {
   "cell_type": "code",
   "execution_count": 134,
   "metadata": {},
   "outputs": [],
   "source": [
    "def teylor(x0, N):\n",
    "    ln = np.cumsum(((-1)**(N+1)*x0**N)/N)\n",
    "    \n",
    "    return ln\n"
   ]
  },
  {
   "cell_type": "markdown",
   "metadata": {},
   "source": [
    "Задание 7\n",
    "\n",
    "Надо найти выборочное среднее и ковариационную матрицу выборки X, не пользуясь специальными numpy функциями mean и cov.\n"
   ]
  },
  {
   "cell_type": "code",
   "execution_count": 148,
   "metadata": {},
   "outputs": [
    {
     "name": "stdout",
     "output_type": "stream",
     "text": [
      "[-22.59259259  24.81481481 -28.88888889]\n"
     ]
    }
   ],
   "source": [
    "x = np.array([[175,  4],\n",
    "     [20,  2 ],\n",
    "     [25 , 8]])\n",
    "\n",
    "#print(x[:, 0])\n",
    "\n",
    "mean1 = sum(x[:, 0])/float(len(x[:, 0]))\n",
    "mean2 = sum(x[:, 1])/float(len(x[:, 1]))\n",
    "\n",
    "cov = np.cumsum((x[:, 0] - mean1)*(x[:, 1] - mean2))/len(x[:, 0])\n",
    "print(cov)"
   ]
  },
  {
   "cell_type": "code",
   "execution_count": null,
   "metadata": {},
   "outputs": [],
   "source": []
  }
 ],
 "metadata": {
  "kernelspec": {
   "display_name": "Python 3",
   "language": "python",
   "name": "python3"
  },
  "language_info": {
   "codemirror_mode": {
    "name": "ipython",
    "version": 3
   },
   "file_extension": ".py",
   "mimetype": "text/x-python",
   "name": "python",
   "nbconvert_exporter": "python",
   "pygments_lexer": "ipython3",
   "version": "3.8.10"
  }
 },
 "nbformat": 4,
 "nbformat_minor": 4
}
